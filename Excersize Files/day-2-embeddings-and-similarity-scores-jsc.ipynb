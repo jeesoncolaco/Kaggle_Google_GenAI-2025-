{
 "cells": [
  {
   "cell_type": "markdown",
   "metadata": {},
   "source": [
    "##### Copyright 2025 Google LLC."
   ]
  },
  {
   "cell_type": "code",
   "execution_count": null,
   "metadata": {
    "execution": {
     "iopub.execute_input": "2025-03-31T10:17:04.373801Z",
     "iopub.status.busy": "2025-03-31T10:17:04.373398Z",
     "iopub.status.idle": "2025-03-31T10:17:04.40131Z",
     "shell.execute_reply": "2025-03-31T10:17:04.400163Z",
     "shell.execute_reply.started": "2025-03-31T10:17:04.373719Z"
    },
    "jupyter": {
     "source_hidden": true
    },
    "trusted": true
   },
   "outputs": [],
   "source": [
    "# @title Licensed under the Apache License, Version 2.0 (the \"License\");\n",
    "# you may not use this file except in compliance with the License.\n",
    "# You may obtain a copy of the License at\n",
    "#\n",
    "# https://www.apache.org/licenses/LICENSE-2.0\n",
    "#\n",
    "# Unless required by applicable law or agreed to in writing, software\n",
    "# distributed under the License is distributed on an \"AS IS\" BASIS,\n",
    "# WITHOUT WARRANTIES OR CONDITIONS OF ANY KIND, either express or implied.\n",
    "# See the License for the specific language governing permissions and\n",
    "# limitations under the License."
   ]
  },
  {
   "cell_type": "markdown",
   "metadata": {
    "id": "u8QTQ5viA7S0"
   },
   "source": [
    "# Day 2 - Embeddings and similarity scores\n",
    "\n",
    "Welcome back to the Kaggle 5-day Generative AI course!\n",
    "\n",
    "In this notebook you will use the Gemini API's embedding endpoint to explore similarity scores.\n",
    "\n",
    "**NOTE**: The Day 1 notebook contains lots of information for getting set up with Kaggle Notebooks. If you are having any issues, please [check out the troubleshooting steps there](https://www.kaggle.com/code/markishere/day-1-prompting#Get-started-with-Kaggle-notebooks).\n",
    "\n",
    "## For help\n",
    "\n",
    "**Common issues are covered in the [FAQ and troubleshooting guide](https://www.kaggle.com/code/markishere/day-0-troubleshooting-and-faqs).**\n"
   ]
  },
  {
   "cell_type": "markdown",
   "metadata": {
    "id": "GflcN2KzBIr3"
   },
   "source": [
    "## Set up the SDK"
   ]
  },
  {
   "cell_type": "code",
   "execution_count": 1,
   "metadata": {
    "execution": {
     "iopub.execute_input": "2025-03-31T10:17:04.404389Z",
     "iopub.status.busy": "2025-03-31T10:17:04.403927Z",
     "iopub.status.idle": "2025-03-31T10:17:24.015864Z",
     "shell.execute_reply": "2025-03-31T10:17:24.014582Z",
     "shell.execute_reply.started": "2025-03-31T10:17:04.404341Z"
    },
    "id": "rRDDcLfmBIVs",
    "trusted": true
   },
   "outputs": [
    {
     "name": "stderr",
     "output_type": "stream",
     "text": [
      "ERROR: Invalid requirement: '#'\n",
      "\n",
      "[notice] A new release of pip available: 22.3.1 -> 25.0.1\n",
      "[notice] To update, run: python.exe -m pip install --upgrade pip\n"
     ]
    }
   ],
   "source": [
    "!pip uninstall -qqy jupyterlab kfp  # Remove unused conflicting packages\n",
    "!pip install -U -q \"google-genai==1.7.0\""
   ]
  },
  {
   "cell_type": "code",
   "execution_count": 2,
   "metadata": {
    "execution": {
     "iopub.execute_input": "2025-03-31T10:17:24.017709Z",
     "iopub.status.busy": "2025-03-31T10:17:24.017388Z",
     "iopub.status.idle": "2025-03-31T10:17:25.373986Z",
     "shell.execute_reply": "2025-03-31T10:17:25.372933Z",
     "shell.execute_reply.started": "2025-03-31T10:17:24.017679Z"
    },
    "id": "9Q5GpJkIBNyE",
    "trusted": true
   },
   "outputs": [
    {
     "data": {
      "text/plain": [
       "'1.7.0'"
      ]
     },
     "execution_count": 2,
     "metadata": {},
     "output_type": "execute_result"
    }
   ],
   "source": [
    "from google import genai\n",
    "from google.genai import types\n",
    "\n",
    "genai.__version__"
   ]
  },
  {
   "cell_type": "markdown",
   "metadata": {
    "id": "3t1owWKbBCwc"
   },
   "source": [
    "### Set up your API key\n",
    "\n",
    "To run the following cell, your API key must be stored it in a [Kaggle secret](https://www.kaggle.com/discussions/product-feedback/114053) named `GOOGLE_API_KEY`.\n",
    "\n",
    "If you don't already have an API key, you can grab one from [AI Studio](https://aistudio.google.com/app/apikey). You can find [detailed instructions in the docs](https://ai.google.dev/gemini-api/docs/api-key).\n",
    "\n",
    "To make the key available through Kaggle secrets, choose `Secrets` from the `Add-ons` menu and follow the instructions to add your key or enable it for this notebook."
   ]
  },
  {
   "cell_type": "code",
   "execution_count": 3,
   "metadata": {
    "execution": {
     "iopub.execute_input": "2025-03-31T10:17:25.375948Z",
     "iopub.status.busy": "2025-03-31T10:17:25.375491Z",
     "iopub.status.idle": "2025-03-31T10:17:25.566544Z",
     "shell.execute_reply": "2025-03-31T10:17:25.565422Z",
     "shell.execute_reply.started": "2025-03-31T10:17:25.375916Z"
    },
    "id": "B0GMitJlA3mE",
    "trusted": true
   },
   "outputs": [],
   "source": [
    "#from kaggle_secrets import UserSecretsClient\n",
    "\n",
    "#GOOGLE_API_KEY = UserSecretsClient().get_secret(\"GOOGLE_API_KEY\")\n",
    "\n",
    "import os\n",
    "\n",
    "GOOGLE_API_KEY = os.getenv('GOOGLE_API_KEY')"
   ]
  },
  {
   "cell_type": "markdown",
   "metadata": {},
   "source": [
    "If you received an error response along the lines of `No user secrets exist for kernel id ...`, then you need to add your API key via `Add-ons`, `Secrets` **and** enable it.\n",
    "\n",
    "![Screenshot of the checkbox to enable GOOGLE_API_KEY secret](https://storage.googleapis.com/kaggle-media/Images/5gdai_sc_3.png)"
   ]
  },
  {
   "cell_type": "markdown",
   "metadata": {
    "id": "Sp_8uANnLlyb"
   },
   "source": [
    "### Explore available models\n",
    "\n",
    "You will be using the [`embedContent`](https://ai.google.dev/api/embeddings#method:-models.embedcontent) API method to calculate batch embeddings in this guide. Find a model that supports it through the [`models.list`](https://ai.google.dev/api/models#method:-models.list) endpoint. You can also find more information about the embedding models on [the models page](https://ai.google.dev/gemini-api/docs/models/gemini#text-embedding)."
   ]
  },
  {
   "cell_type": "code",
   "execution_count": 4,
   "metadata": {
    "execution": {
     "iopub.execute_input": "2025-03-31T10:17:25.56844Z",
     "iopub.status.busy": "2025-03-31T10:17:25.567991Z",
     "iopub.status.idle": "2025-03-31T10:17:25.805637Z",
     "shell.execute_reply": "2025-03-31T10:17:25.804538Z",
     "shell.execute_reply.started": "2025-03-31T10:17:25.56839Z"
    },
    "executionInfo": {
     "elapsed": 1984,
     "status": "ok",
     "timestamp": 1729230758467,
     "user": {
      "displayName": "Mark McDonald",
      "userId": "13189749536735366901"
     },
     "user_tz": -480
    },
    "id": "7l2CClM0LllM",
    "outputId": "cd330378-138d-43a7-c4ab-53b31f577ae8",
    "trusted": true
   },
   "outputs": [
    {
     "name": "stdout",
     "output_type": "stream",
     "text": [
      "models/embedding-001\n",
      "models/text-embedding-004\n",
      "models/gemini-embedding-exp-03-07\n",
      "models/gemini-embedding-exp\n"
     ]
    }
   ],
   "source": [
    "client = genai.Client(api_key=GOOGLE_API_KEY)\n",
    "\n",
    "for model in client.models.list():\n",
    "  if 'embedContent' in model.supported_actions:\n",
    "    print(model.name)"
   ]
  },
  {
   "cell_type": "markdown",
   "metadata": {
    "id": "zmGec4TqLF5j"
   },
   "source": [
    "## Calculate similarity scores\n",
    "\n",
    "This example embeds some variations on the pangram, `The quick brown fox jumps over the lazy dog`, including spelling mistakes and shortenings of the phrase. Another pangram and a somewhat unrelated phrase have been included for comparison.\n",
    "\n",
    "In this task, you are going to use the embeddings to calculate similarity scores, so the `task_type` for these embeddings is `semantic_similarity`. Check out the [API reference](https://ai.google.dev/api/embeddings#v1beta.TaskType) for the full list of tasks."
   ]
  },
  {
   "cell_type": "code",
   "execution_count": 5,
   "metadata": {
    "execution": {
     "iopub.execute_input": "2025-03-31T10:17:25.807163Z",
     "iopub.status.busy": "2025-03-31T10:17:25.806831Z",
     "iopub.status.idle": "2025-03-31T10:17:27.44493Z",
     "shell.execute_reply": "2025-03-31T10:17:27.44377Z",
     "shell.execute_reply.started": "2025-03-31T10:17:25.807132Z"
    },
    "id": "PJoihtRALFdL",
    "trusted": true
   },
   "outputs": [],
   "source": [
    "texts = [\n",
    "    'The quick brown fox jumps over the lazy dog.',\n",
    "    'The quick rbown fox jumps over the lazy dog.',\n",
    "    'teh fast fox jumps over the slow woofer.',\n",
    "    'a quick brown fox jmps over lazy dog.',\n",
    "    'brown fox jumping over dog',\n",
    "    'fox > dog',\n",
    "    # Alternative pangram for comparison:\n",
    "    'The five boxing wizards jump quickly.',\n",
    "    # Unrelated text, also for comparison:\n",
    "    'Lorem ipsum dolor sit amet, consectetur adipiscing elit. Vivamus et hendrerit massa. Sed pulvinar, nisi a lobortis sagittis, neque risus gravida dolor, in porta dui odio vel purus.',\n",
    "]\n",
    "\n",
    "\n",
    "response = client.models.embed_content(\n",
    "    model='models/text-embedding-004',\n",
    "    contents=texts,\n",
    "    config=types.EmbedContentConfig(task_type='semantic_similarity'))"
   ]
  },
  {
   "cell_type": "markdown",
   "metadata": {},
   "source": [
    "Define a short helper function that will make it easier to display longer embedding texts in our visualisation."
   ]
  },
  {
   "cell_type": "code",
   "execution_count": 6,
   "metadata": {
    "execution": {
     "iopub.execute_input": "2025-03-31T10:17:27.449113Z",
     "iopub.status.busy": "2025-03-31T10:17:27.448381Z",
     "iopub.status.idle": "2025-03-31T10:17:27.455756Z",
     "shell.execute_reply": "2025-03-31T10:17:27.454871Z",
     "shell.execute_reply.started": "2025-03-31T10:17:27.449045Z"
    },
    "id": "QnCDyQZdOQ8M",
    "trusted": true
   },
   "outputs": [],
   "source": [
    "def truncate(t: str, limit: int = 50) -> str:\n",
    "  \"\"\"Truncate labels to fit on the chart.\"\"\"\n",
    "  if len(t) > limit:\n",
    "    return t[:limit-3] + '...'\n",
    "  else:\n",
    "    return t\n",
    "\n",
    "truncated_texts = [truncate(t) for t in texts]"
   ]
  },
  {
   "cell_type": "markdown",
   "metadata": {
    "id": "ARqdVQN6R1Um"
   },
   "source": [
    "A similarity score of two embedding vectors can be obtained by calculating their inner product. If $\\mathbf{u}$ is the first embedding vector, and $\\mathbf{v}$ the second, this is $\\mathbf{u}^T \\mathbf{v}$. As the API provides embedding vectors that are normalised to unit length, this is also the cosine similarity.\n",
    "\n",
    "This score can be computed across all embeddings through the matrix self-multiplication: `df @ df.T`.\n",
    "\n",
    "Note that the range from 0.0 (completely dissimilar) to 1.0 (completely similar) is depicted in the heatmap from light (0.0) to dark (1.0)."
   ]
  },
  {
   "cell_type": "code",
   "execution_count": 8,
   "metadata": {},
   "outputs": [
    {
     "name": "stdout",
     "output_type": "stream",
     "text": [
      "Collecting pandas\n",
      "  Downloading pandas-2.2.3-cp311-cp311-win_amd64.whl (11.6 MB)\n",
      "     --------------------------------------- 11.6/11.6 MB 12.1 MB/s eta 0:00:00\n",
      "Requirement already satisfied: numpy>=1.23.2 in c:\\python311\\lib\\site-packages (from pandas) (2.2.4)\n",
      "Requirement already satisfied: python-dateutil>=2.8.2 in c:\\users\\colacoj\\appdata\\roaming\\python\\python311\\site-packages (from pandas) (2.9.0.post0)\n",
      "Collecting pytz>=2020.1\n",
      "  Downloading pytz-2025.2-py2.py3-none-any.whl (509 kB)\n",
      "     ------------------------------------- 509.2/509.2 kB 10.6 MB/s eta 0:00:00\n",
      "Collecting tzdata>=2022.7\n",
      "  Downloading tzdata-2025.2-py2.py3-none-any.whl (347 kB)\n",
      "     ------------------------------------- 347.8/347.8 kB 10.5 MB/s eta 0:00:00\n",
      "Requirement already satisfied: six>=1.5 in c:\\users\\colacoj\\appdata\\roaming\\python\\python311\\site-packages (from python-dateutil>=2.8.2->pandas) (1.17.0)\n",
      "Installing collected packages: pytz, tzdata, pandas\n",
      "Successfully installed pandas-2.2.3 pytz-2025.2 tzdata-2025.2\n"
     ]
    },
    {
     "name": "stderr",
     "output_type": "stream",
     "text": [
      "\n",
      "[notice] A new release of pip available: 22.3.1 -> 25.0.1\n",
      "[notice] To update, run: python.exe -m pip install --upgrade pip\n"
     ]
    }
   ],
   "source": [
    "!pip install pandas"
   ]
  },
  {
   "cell_type": "code",
   "execution_count": null,
   "metadata": {
    "execution": {
     "iopub.execute_input": "2025-03-31T10:17:27.45921Z",
     "iopub.status.busy": "2025-03-31T10:17:27.457881Z",
     "iopub.status.idle": "2025-03-31T10:17:29.409307Z",
     "shell.execute_reply": "2025-03-31T10:17:29.408197Z",
     "shell.execute_reply.started": "2025-03-31T10:17:27.459162Z"
    },
    "executionInfo": {
     "elapsed": 818,
     "status": "ok",
     "timestamp": 1729231597583,
     "user": {
      "displayName": "Mark McDonald",
      "userId": "13189749536735366901"
     },
     "user_tz": -480
    },
    "id": "ADlivURDM1mY",
    "outputId": "9a420f7d-3ae8-434b-a66f-6a8a4336bcdf",
    "trusted": true
   },
   "outputs": [],
   "source": [
    "\n",
    "import pandas as pd\n",
    "import seaborn as sns\n",
    "\n",
    "\n",
    "# Set up the embeddings in a dataframe.\n",
    "df = pd.DataFrame([e.values for e in response.embeddings], index=truncated_texts)\n",
    "# Perform the similarity calculation\n",
    "sim = df @ df.T\n",
    "# Draw!\n",
    "sns.heatmap(sim, vmin=0, vmax=1, cmap=\"Greens\");"
   ]
  },
  {
   "cell_type": "markdown",
   "metadata": {
    "id": "xpvA8jzHoQhH"
   },
   "source": [
    "You can see the scores for a particular term directly by looking it up in the dataframe."
   ]
  },
  {
   "cell_type": "code",
   "execution_count": null,
   "metadata": {
    "execution": {
     "iopub.execute_input": "2025-03-31T10:17:29.41178Z",
     "iopub.status.busy": "2025-03-31T10:17:29.411076Z",
     "iopub.status.idle": "2025-03-31T10:17:29.423236Z",
     "shell.execute_reply": "2025-03-31T10:17:29.422017Z",
     "shell.execute_reply.started": "2025-03-31T10:17:29.41173Z"
    },
    "executionInfo": {
     "elapsed": 506,
     "status": "ok",
     "timestamp": 1729238230946,
     "user": {
      "displayName": "Mark McDonald",
      "userId": "13189749536735366901"
     },
     "user_tz": -480
    },
    "id": "Cpbjryx3oU5Z",
    "outputId": "efaeee0f-eea8-40cb-d60e-99d96ff64735",
    "trusted": true
   },
   "outputs": [],
   "source": [
    "sim['The quick brown fox jumps over the lazy dog.'].sort_values(ascending=False)"
   ]
  },
  {
   "cell_type": "markdown",
   "metadata": {},
   "source": [
    "Try exploring the embeddings of your own datasets, or explore those available in [Kaggle datasets](https://www.kaggle.com/datasets)."
   ]
  },
  {
   "cell_type": "markdown",
   "metadata": {
    "id": "asDEEGOppb9f"
   },
   "source": [
    "## Further reading\n",
    "\n",
    "* Explore [search re-ranking using embeddings](https://github.com/google-gemini/cookbook/blob/main/examples/Search_reranking_using_embeddings.ipynb) with the Wikipedia API\n",
    "* Perform [anomaly detection using embeddings](https://github.com/google-gemini/cookbook/blob/main/examples/Anomaly_detection_with_embeddings.ipynb)\n",
    "\n",
    "*- [Mark McD](https://linktr.ee/markmcd)*"
   ]
  }
 ],
 "metadata": {
  "colab": {
   "authorship_tag": "ABX9TyPVZ4pRXCpE4LFVF2nKXB7F",
   "provenance": [],
   "toc_visible": true
  },
  "kaggle": {
   "accelerator": "none",
   "dataSources": [],
   "dockerImageVersionId": 30786,
   "isGpuEnabled": false,
   "isInternetEnabled": false,
   "language": "python",
   "sourceType": "notebook"
  },
  "kernelspec": {
   "display_name": "Python 3",
   "language": "python",
   "name": "python3"
  },
  "language_info": {
   "codemirror_mode": {
    "name": "ipython",
    "version": 3
   },
   "file_extension": ".py",
   "mimetype": "text/x-python",
   "name": "python",
   "nbconvert_exporter": "python",
   "pygments_lexer": "ipython3",
   "version": "3.11.3"
  }
 },
 "nbformat": 4,
 "nbformat_minor": 4
}
